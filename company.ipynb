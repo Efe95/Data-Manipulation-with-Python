{
 "cells": [
  {
   "cell_type": "code",
   "execution_count": null,
   "metadata": {},
   "outputs": [],
   "source": [
    "#Reading the .txt file and extracting the revelant column\n",
    "\n",
    "with open ('company.txt') as data:\n",
    "    datax = data.readlines()\n",
    "\n",
    "end = 0\n",
    "for line in datax:\n",
    "    if line.startswith(\"OVERVIEW\"):\n",
    "        end = datax.index(line)\n",
    "products_slice= datax[10:end - 1]\n",
    "\n",
    "chars = ['(', ')', '\\n', 'sold']\n",
    "products = []\n",
    "for i in products_slice:\n",
    "    for char in chars:\n",
    "        i = i.replace(char, '')\n",
    "    products.append(i.strip())\n",
    "\n",
    "prod_split = {}\n",
    "for i in products:\n",
    "    amount = i.split(\" \")[-2:]\n",
    "    if amount[1] == 'million':\n",
    "        amount[1] = 1000000\n",
    "    elif amount[1] == 'thousand':\n",
    "        amount[1] = 1000\n",
    "    amount = eval(amount[0]) * amount[1]\n",
    "    prod_split[' '.join(i.split(\" \")[:-2])] = amount\n",
    "product_sort = sorted(prod_split.items(), key=lambda x:x[1], reverse=True)\n",
    "\n",
    "top_5 = sorted(product_sort, key = lambda x: x[1], reverse= True)[:5]\n",
    "for index, i in enumerate (top_5, 1):\n",
    "    print (index, i[0], sep= '. ')"
   ]
  },
  {
   "cell_type": "code",
   "execution_count": null,
   "metadata": {},
   "outputs": [],
   "source": [
    "#User prompt\n",
    "\n",
    "def prod_prompt():\n",
    "    item_index = int(input('Input in Range of 1 to 5: '))\n",
    "    for index, i in enumerate (top_5, 1):\n",
    "        if index == item_index:\n",
    "            print(f'ACME {i[0]} has sold {int(i[1])} units.')\n",
    "    \n",
    "prod_prompt()"
   ]
  }
 ],
 "metadata": {
  "kernelspec": {
   "display_name": "Python 3.8.5 64-bit",
   "language": "python",
   "name": "python3"
  },
  "language_info": {
   "name": "python",
   "version": "3.8.5"
  },
  "orig_nbformat": 4,
  "vscode": {
   "interpreter": {
    "hash": "233ed52b9c36cb7c8e999d9c11f52ff2ffd9bf241d90739eeebb1b8f59d99de8"
   }
  }
 },
 "nbformat": 4,
 "nbformat_minor": 2
}
